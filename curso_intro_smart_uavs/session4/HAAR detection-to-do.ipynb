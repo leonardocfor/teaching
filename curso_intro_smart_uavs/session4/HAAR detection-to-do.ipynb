{
 "cells": [
  {
   "cell_type": "markdown",
   "metadata": {},
   "source": [
    "# Intro to smart UAVs"
   ]
  },
  {
   "cell_type": "markdown",
   "metadata": {},
   "source": [
    "## Session 4: A grasp on OpenCV (Open Computer Vision)\n",
    "### Using modified code and information from Udemy Course: https://www.udemy.com/course/master-deep-learning-computer-visiontm-cnn-ssd-yolo-gans/"
   ]
  },
  {
   "cell_type": "markdown",
   "metadata": {},
   "source": [
    "### Tuning\n",
    "\n",
    "classifier.detectMultiScale(input image, Scale Factor, Min Neighbors)\n",
    "\n",
    "- Scale Factor\n",
    "if equal to 1.3, the image will be reduce by 30% each time it is scaler The closer to one the longer it will be the computing time but the detection rate will be increased\n",
    "\n",
    "\n",
    "- Min Neighbors\n",
    "Specifies the number of neighbors each potential window should have in order to consider it a positive detection. Typically set between 3-6. \n",
    "It acts as sensitivity setting, low values will sometimes detect multiples faces over a single face. High values will ensure less false positives, but you may miss some faces.      \n",
    "    "
   ]
  },
  {
   "cell_type": "markdown",
   "metadata": {},
   "source": [
    "### Required imports"
   ]
  },
  {
   "cell_type": "code",
   "execution_count": 11,
   "metadata": {},
   "outputs": [],
   "source": []
  },
  {
   "cell_type": "markdown",
   "metadata": {},
   "source": [
    "### Classifiers"
   ]
  },
  {
   "cell_type": "code",
   "execution_count": 12,
   "metadata": {},
   "outputs": [],
   "source": [
    "# XML HAAR classifiers\n",
    "car_classifier_xml = 'haarcascade_car.xml'\n",
    "fullbody_classifier_xml = 'haarcascade_fullbody.xml'\n",
    "face_classifier_xml = 'haarcascade_frontalface_default.xml'\n",
    "\n",
    "# Classifiers\n",
    "car_classifier = cv2.CascadeClassifier(car_classifier_xml)\n",
    "fullbody_classifier = cv2.CascadeClassifier(fullbody_classifier_xml)\n",
    "face_classifier = cv2.CascadeClassifier(face_classifier_xml)"
   ]
  },
  {
   "cell_type": "markdown",
   "metadata": {},
   "source": [
    "### Detecting faces in video feed"
   ]
  },
  {
   "cell_type": "code",
   "execution_count": 13,
   "metadata": {},
   "outputs": [],
   "source": []
  },
  {
   "cell_type": "markdown",
   "metadata": {},
   "source": [
    "### Detecting pedestrians"
   ]
  },
  {
   "cell_type": "code",
   "execution_count": 14,
   "metadata": {},
   "outputs": [],
   "source": []
  },
  {
   "cell_type": "markdown",
   "metadata": {},
   "source": [
    "### Detecting cars"
   ]
  },
  {
   "cell_type": "code",
   "execution_count": 15,
   "metadata": {},
   "outputs": [],
   "source": []
  }
 ],
 "metadata": {
  "kernelspec": {
   "display_name": "Python 3",
   "language": "python",
   "name": "python3"
  },
  "language_info": {
   "codemirror_mode": {
    "name": "ipython",
    "version": 3
   },
   "file_extension": ".py",
   "mimetype": "text/x-python",
   "name": "python",
   "nbconvert_exporter": "python",
   "pygments_lexer": "ipython3",
   "version": "3.8.1"
  }
 },
 "nbformat": 4,
 "nbformat_minor": 4
}
