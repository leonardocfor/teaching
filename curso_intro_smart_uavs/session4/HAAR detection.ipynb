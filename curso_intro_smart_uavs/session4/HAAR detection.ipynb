{
 "cells": [
  {
   "cell_type": "markdown",
   "metadata": {},
   "source": [
    "# Intro to smart UAVs"
   ]
  },
  {
   "cell_type": "markdown",
   "metadata": {},
   "source": [
    "## Session 4: A grasp on OpenCV (Open Computer Vision)\n",
    "### Using modified code and information from Udemy Course: https://www.udemy.com/course/master-deep-learning-computer-visiontm-cnn-ssd-yolo-gans/"
   ]
  },
  {
   "cell_type": "markdown",
   "metadata": {},
   "source": [
    "### Tuning\n",
    "\n",
    "classifier.detectMultiScale(input image, Scale Factor, Min Neighbors)\n",
    "\n",
    "- Scale Factor\n",
    "if equal to 1.3, the image will be reduce by 30% each time it is scaler The closer to one the longer it will be the computing time but the detection rate will be increased\n",
    "\n",
    "\n",
    "- Min Neighbors\n",
    "Specifies the number of neighbors each potential window should have in order to consider it a positive detection. Typically set between 3-6. \n",
    "It acts as sensitivity setting, low values will sometimes detect multiples faces over a single face. High values will ensure less false positives, but you may miss some faces.      \n",
    "    "
   ]
  },
  {
   "cell_type": "markdown",
   "metadata": {},
   "source": [
    "### Required imports"
   ]
  },
  {
   "cell_type": "code",
   "execution_count": 11,
   "metadata": {},
   "outputs": [],
   "source": [
    "import numpy as np\n",
    "import cv2"
   ]
  },
  {
   "cell_type": "markdown",
   "metadata": {},
   "source": [
    "### Classifiers"
   ]
  },
  {
   "cell_type": "code",
   "execution_count": 12,
   "metadata": {},
   "outputs": [],
   "source": [
    "# XML HAAR classifiers\n",
    "car_classifier_xml = 'haarcascade_car.xml'\n",
    "fullbody_classifier_xml = 'haarcascade_fullbody.xml'\n",
    "face_classifier_xml = 'haarcascade_frontalface_default.xml'\n",
    "\n",
    "# Classifiers\n",
    "car_classifier = cv2.CascadeClassifier(car_classifier_xml)\n",
    "fullbody_classifier = cv2.CascadeClassifier(fullbody_classifier_xml)\n",
    "face_classifier = cv2.CascadeClassifier(face_classifier_xml)"
   ]
  },
  {
   "cell_type": "markdown",
   "metadata": {},
   "source": [
    "### Detecting faces in video feed"
   ]
  },
  {
   "cell_type": "code",
   "execution_count": 13,
   "metadata": {},
   "outputs": [],
   "source": [
    "source = 0\n",
    "video_source = cv2.VideoCapture(source)\n",
    "classifier = face_classifier\n",
    "\n",
    "while True:\n",
    "    \n",
    "    ret, image = video_source.read()\n",
    "    gray_img = cv2.cvtColor(image,cv2.COLOR_BGR2GRAY)\n",
    "    face_detections = classifier.detectMultiScale(gray_img,1.3,5)\n",
    "    if not np.array_equal(face_detections,()):\n",
    "        for (x,y,w,h) in face_detections:\n",
    "            x = x - 50\n",
    "            w = w + 50\n",
    "            y = y - 50\n",
    "            h = h + 50\n",
    "            cv2.rectangle(image, (x,y), (x+w,y+h), (127,0,255), 2)\n",
    "    cv2.imshow('Detections', image)\n",
    "    if cv2.waitKey(1) == 13: #13 is the Enter Key\n",
    "        break\n",
    "\n",
    "video_source.release()\n",
    "cv2.destroyAllWindows()"
   ]
  },
  {
   "cell_type": "markdown",
   "metadata": {},
   "source": [
    "### Detecting pedestrians"
   ]
  },
  {
   "cell_type": "code",
   "execution_count": 14,
   "metadata": {},
   "outputs": [],
   "source": [
    "source = 'walking.avi'\n",
    "video_source = cv2.VideoCapture(source)\n",
    "classifier = fullbody_classifier\n",
    "\n",
    "while True:\n",
    "    \n",
    "    ret, image = video_source.read()\n",
    "    if image is not None:\n",
    "        image_copy = image.copy()\n",
    "        image_copy = cv2.resize(image_copy,None, fx=0.5, fy=0.5, interpolation = cv2.INTER_LINEAR)\n",
    "        image = cv2.resize(image,None, fx=0.5, fy=0.5, interpolation = cv2.INTER_LINEAR)\n",
    "        gray_img = cv2.cvtColor(image,cv2.COLOR_BGR2GRAY)\n",
    "        pedestrian_detections = classifier.detectMultiScale(gray_img,1.2,3)\n",
    "        if not np.array_equal(pedestrian_detections,()):\n",
    "            for (x,y,w,h) in pedestrian_detections:\n",
    "                x = x - 50\n",
    "                w = w + 50\n",
    "                y = y - 50\n",
    "                h = h + 50\n",
    "                cv2.rectangle(image_copy, (x,y), (x+w,y+h), (127,0,255), 2)\n",
    "        cv2.imshow('Detections', image_copy)\n",
    "    else: break\n",
    "    if cv2.waitKey(1) == 13: #13 is the Enter Key\n",
    "        break\n",
    "\n",
    "video_source.release()\n",
    "cv2.destroyAllWindows()"
   ]
  },
  {
   "cell_type": "markdown",
   "metadata": {},
   "source": [
    "### Detecting cars"
   ]
  },
  {
   "cell_type": "code",
   "execution_count": 15,
   "metadata": {},
   "outputs": [],
   "source": [
    "source = 'cars.avi'\n",
    "video_source = cv2.VideoCapture(source)\n",
    "classifier = car_classifier\n",
    "\n",
    "while True:\n",
    "    \n",
    "    ret, image = video_source.read()\n",
    "    if image is not None:\n",
    "        gray_img = cv2.cvtColor(image,cv2.COLOR_BGR2GRAY)\n",
    "        car_detections = classifier.detectMultiScale(gray_img,1.4,2)\n",
    "        if not np.array_equal(car_detections,()):\n",
    "            for (x,y,w,h) in car_detections:\n",
    "                x = x - 50\n",
    "                w = w + 50\n",
    "                y = y - 50\n",
    "                h = h + 50\n",
    "                cv2.rectangle(image, (x,y), (x+w,y+h), (127,0,255), 2)\n",
    "        cv2.imshow('Detections', image)\n",
    "    else: break\n",
    "    if cv2.waitKey(1) == 13: #13 is the Enter Key\n",
    "        break\n",
    "\n",
    "video_source.release()\n",
    "cv2.destroyAllWindows()"
   ]
  }
 ],
 "metadata": {
  "kernelspec": {
   "display_name": "Python 3",
   "language": "python",
   "name": "python3"
  },
  "language_info": {
   "codemirror_mode": {
    "name": "ipython",
    "version": 3
   },
   "file_extension": ".py",
   "mimetype": "text/x-python",
   "name": "python",
   "nbconvert_exporter": "python",
   "pygments_lexer": "ipython3",
   "version": "3.8.1"
  }
 },
 "nbformat": 4,
 "nbformat_minor": 4
}
